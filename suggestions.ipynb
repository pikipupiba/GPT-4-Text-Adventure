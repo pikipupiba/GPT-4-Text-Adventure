{
 "cells": [
  {
   "cell_type": "code",
   "execution_count": null,
   "metadata": {},
   "outputs": [],
   "source": [
    "import gradio as gr\n",
    "\n",
    "stats = [\"Turn\", \"Friends\", \"Enemies\"]\n",
    "system_sections = [\"Agent\", \"Rules\", \"Scenario\"]\n",
    "surprises = [\"Surprise 1\", \"Surprise 2\", \"Surprise 3\"]\n",
    "\n",
    "with gr.Blocks() as player_area:\n",
    "    with gr.Row() as story_area:\n",
    "        story = gr.Textbox(lines=20, label=\"Story\", interactive=False)\n",
    "    with gr.Row() as stat_area:\n",
    "        for stat in stats:\n",
    "            globals()[stat.lower()] = gr.Textbox(lines=1, label=stat, interactive=False)\n",
    "    with gr.Row() as input_area:\n",
    "        input = gr.Textbox(lines=5, label=\"Input\", interactive=True)\n",
    "        submit = gr.Button(text=\"Submit\")\n",
    "\n",
    "with gr.Blocks() as game_master_area:\n",
    "    with gr.Row() as system_area:\n",
    "        with gr.Column():\n",
    "            for section in system_sections:\n",
    "                globals()[section.lower()] = gr.Textbox(\n",
    "                    lines=10, label=section, interactive=True\n",
    "                    )\n",
    "                gr.Button(value=\"Save\")\n",
    "                gr.DataFrame(label=f'{section} Saves')\n",
    "        with gr.Column():\n",
    "            for surprise in surprises:\n",
    "                globals()[surprise.lower()] = gr.Textbox(lines=10, label=surprise, interactive=True)\n",
    "\n",
    "game_area = gr.TabbedInterface([game_master_area, player_area], [\"Game Master\", \"Player\"])\n",
    "\n",
    "game_area.launch()"
   ]
  }
 ],
 "metadata": {
  "kernelspec": {
   "display_name": "Python 3",
   "language": "python",
   "name": "python3"
  },
  "language_info": {
   "codemirror_mode": {
    "name": "ipython",
    "version": 3
   },
   "file_extension": ".py",
   "mimetype": "text/x-python",
   "name": "python",
   "nbconvert_exporter": "python",
   "pygments_lexer": "ipython3",
   "version": "3.9.0"
  },
  "orig_nbformat": 4
 },
 "nbformat": 4,
 "nbformat_minor": 2
}
