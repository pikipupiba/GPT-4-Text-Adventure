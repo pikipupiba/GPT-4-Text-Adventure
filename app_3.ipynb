{
 "cells": [
  {
   "cell_type": "code",
   "execution_count": 23,
   "metadata": {},
   "outputs": [
    {
     "name": "stdout",
     "output_type": "stream",
     "text": [
      "['You will facilitate a choose your own adventure game. Give me 5 options for every turn. Start immediately.', '1', '3', '5', '4']\n",
      "[{'role': 'user', 'content': '[\"You will facilitate a choose your own adventure game. Give me 5 options for every turn. Start immediately.\", \"1\", \"3\", \"5\", \"4\"]'}]\n",
      "ChatGPT: \n",
      "[\"You are in the land of Fyddion, standing at the crossroad of five paths. Each path leads to a different part of the world. Your options are 1. Take the path leading to the Forest of Shadows, full of mystical creatures and precious treasures. 2. Proceed towards the Seaside Town, a bustling place known for its friendly locals and vibrant markets. 3. Climb the steep path leading to the Cursed Mountain. On top is rumored to be a powerful weapon. 4. Wander into the Desert of Lost Souls, a vast landscape of sand and ancient myths. 5. Go deep into the Jungle of Whispers, a dense forest known for its dangerous beasts and natural medicines.\", \"You chose path 3, the Cursed Mountain. As you ascend, you encounter five possible actions. 1. Rest for a bit, to recover your strength. 2. Try to survive the freezing heights by building a fire. 3. Increase your pace to reach the peak before sunset. 4. Explore a mysterious cave you see along the path. 5. Try to tame a griffon, a mythical creature you spot flying near the peak.\", \"You chose to explore the mysterious cave. Inside, you come across five possibilities. 1. Investigate a strange, glittering object half-buried in the cave floor. 2. Follow the faint sound of running water deeper into the cave. 3. Try to read the ancient runes etched on the cave walls. 4. Rest in the cave to shield yourself from a sudden blizzard outside. 5. Cautiously approach a slumbering dragon.\", \"You chose to read the ancient runes. As you do, you are presented with five options. 1. Use a spell to translate the runes. 2. Try to decipher the runes using your knowledge of ancient languages. 3. Attempt to erase the runes. 4. Ignore the runes and continue deeper into the cave. 5. Copy the runes onto your journal for later.\"]\n",
      "[\n",
      "  \"You are in the land of Fyddion, standing at the crossroad of five paths. Each path leads to a different part of the world. Your options are 1. Take the path leading to the Forest of Shadows, full of mystical creatures and precious treasures. 2. Proceed towards the Seaside Town, a bustling place known for its friendly locals and vibrant markets. 3. Climb the steep path leading to the Cursed Mountain. On top is rumored to be a powerful weapon. 4. Wander into the Desert of Lost Souls, a vast landscape of sand and ancient myths. 5. Go deep into the Jungle of Whispers, a dense forest known for its dangerous beasts and natural medicines.\",\n",
      "  \"You chose path 3, the Cursed Mountain. As you ascend, you encounter five possible actions. 1. Rest for a bit, to recover your strength. 2. Try to survive the freezing heights by building a fire. 3. Increase your pace to reach the peak before sunset. 4. Explore a mysterious cave you see along the path. 5. Try to tame a griffon, a mythical creature you spot flying near the peak.\",\n",
      "  \"You chose to explore the mysterious cave. Inside, you come across five possibilities. 1. Investigate a strange, glittering object half-buried in the cave floor. 2. Follow the faint sound of running water deeper into the cave. 3. Try to read the ancient runes etched on the cave walls. 4. Rest in the cave to shield yourself from a sudden blizzard outside. 5. Cautiously approach a slumbering dragon.\",\n",
      "  \"You chose to read the ancient runes. As you do, you are presented with five options. 1. Use a spell to translate the runes. 2. Try to decipher the runes using your knowledge of ancient languages. 3. Attempt to erase the runes. 4. Ignore the runes and continue deeper into the cave. 5. Copy the runes onto your journal for later.\"\n",
      "]\n"
     ]
    }
   ],
   "source": [
    "import openai\n",
    "import json\n",
    "openai.api_key = \"\"\n",
    "\n",
    "promptsArray = [\"You will facilitate a choose your own adventure game. Give me 5 options for every turn. Start immediately.\", \"1\", \"3\", \"5\", \"4\"]\n",
    "\n",
    "stringifiedPromptsArray = json.dumps(promptsArray)\n",
    "\n",
    "print(promptsArray)\n",
    "\n",
    "prompts = [\n",
    "    {\n",
    "    \"role\": \"user\",\n",
    "    \"content\": stringifiedPromptsArray\n",
    "    }\n",
    "]\n",
    "\n",
    "print(prompts)\n",
    "\n",
    "batchInstruction = {\n",
    "    \"role\":\n",
    "    \"system\",\n",
    "    \"content\":\n",
    "    \"Respond to each prompt in the array in the order they appear. Reply with an array that contains a response to each individual prompt.\"\n",
    "}\n",
    "\n",
    "prompts.append(batchInstruction)\n",
    "print(\"ChatGPT: \")\n",
    "stringifiedBatchCompletion = openai.ChatCompletion.create(model=\"gpt-4\",\n",
    "                                         messages=prompts,\n",
    "                                         max_tokens=2000)\n",
    "print(stringifiedBatchCompletion.choices[0].message.content)\n",
    "batchCompletion = json.loads(stringifiedBatchCompletion.choices[0].message.content)\n",
    "print(json.dumps(batchCompletion, indent = 2))"
   ]
  }
 ],
 "metadata": {
  "kernelspec": {
   "display_name": "Python 3",
   "language": "python",
   "name": "python3"
  },
  "language_info": {
   "codemirror_mode": {
    "name": "ipython",
    "version": 3
   },
   "file_extension": ".py",
   "mimetype": "text/x-python",
   "name": "python",
   "nbconvert_exporter": "python",
   "pygments_lexer": "ipython3",
   "version": "3.11.2"
  },
  "orig_nbformat": 4
 },
 "nbformat": 4,
 "nbformat_minor": 2
}
