{
 "cells": [
  {
   "cell_type": "code",
   "execution_count": 1,
   "metadata": {},
   "outputs": [
    {
     "name": "stderr",
     "output_type": "stream",
     "text": [
      "c:\\Users\\pikipupiba\\AppData\\Local\\Programs\\Python\\Python311\\Lib\\site-packages\\tqdm\\auto.py:21: TqdmWarning: IProgress not found. Please update jupyter and ipywidgets. See https://ipywidgets.readthedocs.io/en/stable/user_install.html\n",
      "  from .autonotebook import tqdm as notebook_tqdm\n"
     ]
    },
    {
     "name": "stdout",
     "output_type": "stream",
     "text": [
      "Running on local URL:  http://127.0.0.1:7860\n",
      "\n",
      "To create a public link, set `share=True` in `launch()`.\n"
     ]
    },
    {
     "data": {
      "text/html": [
       "<div><iframe src=\"http://127.0.0.1:7860/\" width=\"100%\" height=\"500\" allow=\"autoplay; camera; microphone; clipboard-read; clipboard-write;\" frameborder=\"0\" allowfullscreen></iframe></div>"
      ],
      "text/plain": [
       "<IPython.core.display.HTML object>"
      ]
     },
     "metadata": {},
     "output_type": "display_data"
    },
    {
     "name": "stdout",
     "output_type": "stream",
     "text": [
      "{\n",
      "  \"Story\": \"Deciding to take Tina's challenge head-on, you look around the playground in search of something that can sway the outcome of the yo-yo contest. You spot a chubby squirrel happily munching on an acorn by a tree. You scoop the furry little creature up, and much to everyone's surprise (especially Tina's), you launch it in her direction. The squirrel lands gracefully on Tina\\u2019s head, causing her yo-yo to swerve off course. The playground erupts in laughter, and although Tina is enraged by your unconventional tactic, you're automatically declared the winner of the yo-yo contest!\",\n",
      "  \"Time\": 15,\n",
      "  \"Relationships\": {\n",
      "    \"Acquaintances\": {\n",
      "      \"count\": 0,\n",
      "      \"info\": \"\"\n",
      "    },\n",
      "    \"Friends\": {\n",
      "      \"count\": 1,\n",
      "      \"info\": \"Tina (from enemy to friend due to unexpected and hilarious victory)\"\n",
      "    },\n",
      "    \"Best Friend\": {\n",
      "      \"count\": 0,\n",
      "      \"info\": \"\"\n",
      "    },\n",
      "    \"Enemies\": {\n",
      "      \"count\": 0,\n",
      "      \"info\": \"\"\n",
      "    },\n",
      "    \"Arch Nemesis\": {\n",
      "      \"count\": 0,\n",
      "      \"info\": \"\"\n",
      "    }\n",
      "  },\n",
      "  \"Items\": [\n",
      "    \"Ouija Board\",\n",
      "    \"Rubber Duck\",\n",
      "    \"Yo-Yo\",\n",
      "    \"Pack of Colored Pencils\",\n",
      "    \"Hardcover Fantasy Book\"\n",
      "  ]\n",
      "}\n",
      "{\n",
      "  \"Story\": \"Seeing no other immediate threats or opportunities on the playground, you decide the best course of action is to roll on the ground for the remainder of the recess. It's a risky move, as it leaves you exposed to potential attacks from above (think: acorn drops, dive-bombing pigeons, floating candy wrappers), but it's a move that feels right in the moment. You spend a glorious 45 minutes rolling around on the ground. While it doesn't necessarily garner the respect and admiration you thought it would, it does make you feel refreshingly free.\",\n",
      "  \"Time\": 45,\n",
      "  \"Relationships\": {\n",
      "    \"Acquaintances\": {\n",
      "      \"count\": 0,\n",
      "      \"info\": \"\"\n",
      "    },\n",
      "    \"Friends\": {\n",
      "      \"count\": 1,\n",
      "      \"info\": \"Tina (from enemy to friend due to unexpected and hilarious victory)\"\n",
      "    },\n",
      "    \"Best Friend\": {\n",
      "      \"count\": 0,\n",
      "      \"info\": \"\"\n",
      "    },\n",
      "    \"Enemies\": {\n",
      "      \"count\": 0,\n",
      "      \"info\": \"\"\n",
      "    },\n",
      "    \"Arch Nemesis\": {\n",
      "      \"count\": 0,\n",
      "      \"info\": \"\"\n",
      "    }\n",
      "  },\n",
      "  \"Items\": [\n",
      "    \"Ouija Board\",\n",
      "    \"Rubber Duck\",\n",
      "    \"Yo-Yo\",\n",
      "    \"Pack of Colored Pencils\",\n",
      "    \"Hardcover Fantasy Book\"\n",
      "  ]\n",
      "}\n"
     ]
    }
   ],
   "source": [
    "import gradio as gr\n",
    "from gm import *\n",
    "from player import *\n",
    "\n",
    "game_area = gr.TabbedInterface([player_area, game_master_area], [\"Player\", \"Game Master\"]).launch()"
   ]
  }
 ],
 "metadata": {
  "kernelspec": {
   "display_name": "Python 3",
   "language": "python",
   "name": "python3"
  },
  "language_info": {
   "codemirror_mode": {
    "name": "ipython",
    "version": 3
   },
   "file_extension": ".py",
   "mimetype": "text/x-python",
   "name": "python",
   "nbconvert_exporter": "python",
   "pygments_lexer": "ipython3",
   "version": "3.11.2"
  },
  "orig_nbformat": 4
 },
 "nbformat": 4,
 "nbformat_minor": 2
}
